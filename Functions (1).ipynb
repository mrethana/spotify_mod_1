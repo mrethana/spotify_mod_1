{
 "cells": [
  {
   "cell_type": "code",
   "execution_count": 76,
   "metadata": {},
   "outputs": [],
   "source": [
    "import requests\n",
    "import json\n",
    "api_key='BQB9MU0Xz0gI_bHPRRGa9BsXmlQhx0XGvVeCxzjaWHFUF6cxOIYPRua9TTFyvo1HGSu9OS52lsBA3JM4gBuQDeQubxB3wy1eD4_TgNIfDHEaHm2JpDyv4XWak0vqF_sfIP__U0mycw'\n",
    "headers = {'Accept': 'application/json',\n",
    "'Content-Type': 'application/json',\n",
    "'Authorization': 'Bearer {}'.format(api_key)}"
   ]
  },
  {
   "cell_type": "code",
   "execution_count": 8,
   "metadata": {},
   "outputs": [
    {
     "data": {
      "text/plain": [
       "['big room', 'edm', 'electro house', 'progressive house']"
      ]
     },
     "execution_count": 8,
     "metadata": {},
     "output_type": "execute_result"
    }
   ],
   "source": [
    "#Get several artists API\n",
    "artist_url = 'https://api.spotify.com/v1/artists?ids=2CIMQHirSU0MQqyYHq0eOx%2C57dN52uHvrHOxijzpIgu3E%2C1vCWHaC5f2uS3yhpwWbIA6'\n",
    "response_artists = requests.get(artist_url, headers=headers)\n",
    "raw_artists = json.loads(response_artists.content)\n",
    "clean_artists = [data for data in raw_artists['artists']]\n",
    "clean_artists[0]['genres']"
   ]
  },
  {
   "cell_type": "code",
   "execution_count": 19,
   "metadata": {},
   "outputs": [
    {
     "data": {
      "text/plain": [
       "'4EUf4YyNjuXypWY6W5wEDm'"
      ]
     },
     "execution_count": 19,
     "metadata": {},
     "output_type": "execute_result"
    }
   ],
   "source": [
    "#Get artist top tracks API\n",
    "artist_top_tracks_url = 'https://api.spotify.com/v1/artists/0TnOYISbd1XYRBk9myaseg/top-tracks?country=ES'\n",
    "response_artist_top_tracks = requests.get(artist_top_tracks_url, headers=headers)\n",
    "raw_artist_top_tracks = json.loads(response_artist_top_tracks.content)\n",
    "clean_artist_top_tracks = [data for data in raw_artist_top_tracks['tracks']]\n",
    "clean_artist_top_tracks[0]['album']['id']"
   ]
  },
  {
   "cell_type": "code",
   "execution_count": 32,
   "metadata": {},
   "outputs": [
    {
     "data": {
      "text/plain": [
       "'6Q4PYJtrq8CBx7YCY5IyRN'"
      ]
     },
     "execution_count": 32,
     "metadata": {},
     "output_type": "execute_result"
    }
   ],
   "source": [
    "#Get album tracks API\n",
    "album_tracks_url = 'https://api.spotify.com/v1/albums/4aawyAB9vmqN3uQ7FjRGTy/tracks?market=ES&limit=10&offset=5'\n",
    "response_album_tracks = requests.get(album_tracks_url, headers=headers)\n",
    "raw_album_tracks = json.loads(response_album_tracks.content)\n",
    "clean_album_tracks = [data for data in raw_album_tracks['items']]\n",
    "clean_album_tracks[0]['id']"
   ]
  },
  {
   "cell_type": "code",
   "execution_count": 54,
   "metadata": {},
   "outputs": [
    {
     "data": {
      "text/plain": [
       "'37i9dQZF1DX6T7BDvbGhmT'"
      ]
     },
     "execution_count": 54,
     "metadata": {},
     "output_type": "execute_result"
    }
   ],
   "source": [
    "#Get category playlists API\n",
    "cat_playlist_url = 'https://api.spotify.com/v1/browse/categories/dinner/playlists?country=SE&limit=10&offset=5'\n",
    "response_cat_playlist = requests.get(cat_playlist_url, headers=headers)\n",
    "raw_cat_playlist = json.loads(response_cat_playlist.content)\n",
    "clean_cat_playlist = [data for data in raw_cat_playlist['playlists']['items']]\n",
    "clean_cat_playlist[0]['id']"
   ]
  },
  {
   "cell_type": "code",
   "execution_count": 78,
   "metadata": {},
   "outputs": [
    {
     "data": {
      "text/plain": [
       "{'added_at': '2018-06-25T09:01:06Z',\n",
       " 'added_by': {'external_urls': {'spotify': 'https://open.spotify.com/user/'},\n",
       "  'href': 'https://api.spotify.com/v1/users/',\n",
       "  'id': '',\n",
       "  'type': 'user',\n",
       "  'uri': 'spotify:user:'},\n",
       " 'is_local': False,\n",
       " 'primary_color': None,\n",
       " 'track': {'album': {'album_type': 'album',\n",
       "   'artists': [{'external_urls': {'spotify': 'https://open.spotify.com/artist/6eUKZXaKkcviH0Ku9w2n3V'},\n",
       "     'href': 'https://api.spotify.com/v1/artists/6eUKZXaKkcviH0Ku9w2n3V',\n",
       "     'id': '6eUKZXaKkcviH0Ku9w2n3V',\n",
       "     'name': 'Ed Sheeran',\n",
       "     'type': 'artist',\n",
       "     'uri': 'spotify:artist:6eUKZXaKkcviH0Ku9w2n3V'}],\n",
       "   'external_urls': {'spotify': 'https://open.spotify.com/album/1xn54DMo2qIqBuMqHtUsFd'},\n",
       "   'href': 'https://api.spotify.com/v1/albums/1xn54DMo2qIqBuMqHtUsFd',\n",
       "   'id': '1xn54DMo2qIqBuMqHtUsFd',\n",
       "   'images': [{'height': 640,\n",
       "     'url': 'https://i.scdn.co/image/b68b39fdc2409d0f526ad48775ddcd93ff496cda',\n",
       "     'width': 640},\n",
       "    {'height': 300,\n",
       "     'url': 'https://i.scdn.co/image/1f927459730fe3c72a2e9263975581a7e652e12f',\n",
       "     'width': 300},\n",
       "    {'height': 64,\n",
       "     'url': 'https://i.scdn.co/image/109839612f24869cacfded433ae0d2a70a549923',\n",
       "     'width': 64}],\n",
       "   'name': 'x (Deluxe Edition)',\n",
       "   'release_date': '2014-06-21',\n",
       "   'release_date_precision': 'day',\n",
       "   'type': 'album',\n",
       "   'uri': 'spotify:album:1xn54DMo2qIqBuMqHtUsFd'},\n",
       "  'artists': [{'external_urls': {'spotify': 'https://open.spotify.com/artist/6eUKZXaKkcviH0Ku9w2n3V'},\n",
       "    'href': 'https://api.spotify.com/v1/artists/6eUKZXaKkcviH0Ku9w2n3V',\n",
       "    'id': '6eUKZXaKkcviH0Ku9w2n3V',\n",
       "    'name': 'Ed Sheeran',\n",
       "    'type': 'artist',\n",
       "    'uri': 'spotify:artist:6eUKZXaKkcviH0Ku9w2n3V'}],\n",
       "  'disc_number': 1,\n",
       "  'duration_ms': 258986,\n",
       "  'episode': False,\n",
       "  'explicit': False,\n",
       "  'external_ids': {'isrc': 'GBAHS1400094'},\n",
       "  'external_urls': {'spotify': 'https://open.spotify.com/track/1HNkqx9Ahdgi1Ixy2xkKkL'},\n",
       "  'href': 'https://api.spotify.com/v1/tracks/1HNkqx9Ahdgi1Ixy2xkKkL',\n",
       "  'id': '1HNkqx9Ahdgi1Ixy2xkKkL',\n",
       "  'is_local': False,\n",
       "  'is_playable': True,\n",
       "  'name': 'Photograph',\n",
       "  'popularity': 83,\n",
       "  'preview_url': 'https://p.scdn.co/mp3-preview/097c7b735ceb410943cbd507a6e1dfda272fd8a8?cid=774b29d4f13844c495f206cafdad9c86',\n",
       "  'track': True,\n",
       "  'track_number': 6,\n",
       "  'type': 'track',\n",
       "  'uri': 'spotify:track:1HNkqx9Ahdgi1Ixy2xkKkL'},\n",
       " 'video_thumbnail': {'url': None}}"
      ]
     },
     "execution_count": 78,
     "metadata": {},
     "output_type": "execute_result"
    }
   ],
   "source": [
    "#Get playlist tracks\n",
    "playlist_tracks_url = 'https://api.spotify.com/v1/users/user/playlists/37i9dQZF1DX6T7BDvbGhmT/tracks?market=ES&limit=10&offset=5'\n",
    "response_playlist_tracks = requests.get(playlist_tracks_url, headers=headers)\n",
    "raw_playlist_tracks = json.loads(response_playlist_tracks.content)\n",
    "clean_playlist_tracks = [data for data in raw_playlist_tracks['items']]\n",
    "clean_playlist_tracks[0]"
   ]
  },
  {
   "cell_type": "code",
   "execution_count": null,
   "metadata": {},
   "outputs": [],
   "source": [
    "#Create genres for artists\n",
    "all_genres = []\n",
    "def find_or_create_genre(genre_list):\n",
    "    genre_objs = []\n",
    "    for genre in genre_list:\n",
    "        for instance in all_genres:\n",
    "            if genre != instance.name:\n",
    "                all_genres.append(Genre(name=genre))\n",
    "                genre_objs.append(Genre(name=genre))\n",
    "            else:\n",
    "                genre_objs.append(instance)\n",
    "    return genre_objs"
   ]
  },
  {
   "cell_type": "code",
   "execution_count": null,
   "metadata": {},
   "outputs": [],
   "source": [
    "#Get Several Artists\n",
    "all_artists = [] \n",
    "def artist(data):\n",
    "    for item in data:\n",
    "        name = item['name']\n",
    "        spotify_id = item['id']\n",
    "        popularity = item['popularity']\n",
    "        followers = item['followers']['total']\n",
    "        genres = item['genres']\n",
    "        genre_objects = find_or_create_genre(genres)\n",
    "        all_artists.append(Artist(spotify_id=spotify_id, name=name, popularity=popularity, followers=followers, genres = genre_objects))\n",
    "    return all_artists"
   ]
  },
  {
   "cell_type": "code",
   "execution_count": null,
   "metadata": {},
   "outputs": [],
   "source": [
    "#Get genre names\n",
    "def genre_names(all_genres):\n",
    "    return [genre.name for genre in all_genres]"
   ]
  },
  {
   "cell_type": "code",
   "execution_count": null,
   "metadata": {},
   "outputs": [],
   "source": [
    "#Get artist top tracks\n",
    "all_track_ids = []\n",
    "all_album_ids = []\n",
    "def artist_top_tracks(data):\n",
    "    #local variable, artist-dependent\n",
    "    top_track_names = []\n",
    "    for item in data:\n",
    "        top_track_names.append(item['name'])\n",
    "        all_track_ids.append(item['id'])\n",
    "        #check to see if album isn't already in all_album_ids list before adding to the list:\n",
    "        if item['album']['id'] not in all_album_ids:\n",
    "            all_album_ids.append(item['album']['id'])\n",
    "    return top_track_names"
   ]
  },
  {
   "cell_type": "code",
   "execution_count": null,
   "metadata": {},
   "outputs": [],
   "source": [
    "#Get album tracks\n",
    "def album_tracks(data):\n",
    "    for item in data:\n",
    "        #check if track_id isn't already in all_track_ids before adding to list:\n",
    "        if item['id'] not in all_track_ids:\n",
    "            all_track_ids.append(item['id'])\n",
    "    return all_track_ids #don't need to "
   ]
  },
  {
   "cell_type": "code",
   "execution_count": null,
   "metadata": {},
   "outputs": [],
   "source": [
    "#Get first category playlist id\n",
    "playlist_ids = []\n",
    "def category_playlist(data):\n",
    "    if data[0]['id'] not in playlist_ids:\n",
    "        playlist_ids.append(data[0]['id'])\n",
    "    return playlist_ids #don't need to "
   ]
  },
  {
   "cell_type": "code",
   "execution_count": null,
   "metadata": {},
   "outputs": [],
   "source": [
    "#Get playlist tracks\n",
    "def playlist_tracks(data):\n",
    "    for item in data:\n",
    "        if item['track']['id'] not in all_track_ids:\n",
    "            all_track_ids.append(item['track']['id'])\n",
    "    return all_track_ids #don't need to"
   ]
  }
 ],
 "metadata": {
  "kernelspec": {
   "display_name": "Python 3",
   "language": "python",
   "name": "python3"
  },
  "language_info": {
   "codemirror_mode": {
    "name": "ipython",
    "version": 3
   },
   "file_extension": ".py",
   "mimetype": "text/x-python",
   "name": "python",
   "nbconvert_exporter": "python",
   "pygments_lexer": "ipython3",
   "version": "3.6.5"
  }
 },
 "nbformat": 4,
 "nbformat_minor": 2
}
